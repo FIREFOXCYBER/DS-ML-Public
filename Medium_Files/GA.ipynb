{
 "cells": [
  {
   "cell_type": "code",
   "execution_count": 1,
   "metadata": {},
   "outputs": [],
   "source": [
    "import argparse\n",
    "from apiclient.discovery import build\n",
    "import httplib2\n",
    "from oauth2client import client\n",
    "from oauth2client import file\n",
    "from oauth2client import tools\n",
    "import pandas as pd\n",
    "import numpy as np\n",
    "SCOPES = ['https://www.googleapis.com/auth/analytics.readonly']\n",
    "DISCOVERY_URI = 'https://analyticsreporting.googleapis.com/$discovery/rest'\n",
    "CLIENT_SECRETS_PATH = 'data/client_secret.json'  # Path to client_secrets.json file.\n",
    "VIEW_ID = 'XXXXXXXX' # Replace 'XXXXXXX' with your View ID"
   ]
  },
  {
   "cell_type": "code",
   "execution_count": 2,
   "metadata": {},
   "outputs": [],
   "source": [
    "def authenticate_ga_api():\n",
    "  \"\"\"Initializes the analyticsreporting service object.\n",
    "\n",
    "  Returns:\n",
    "    analytics an authorized analyticsreporting service object.\n",
    "  \"\"\"\n",
    "  # Parse command-line arguments.\n",
    "  parser = argparse.ArgumentParser(\n",
    "      formatter_class=argparse.RawDescriptionHelpFormatter,\n",
    "      parents=[tools.argparser])\n",
    "  flags = parser.parse_args([])\n",
    "\n",
    "  # Set up a Flow object to be used if we need to authenticate.\n",
    "  flow = client.flow_from_clientsecrets(\n",
    "      CLIENT_SECRETS_PATH, scope=SCOPES,\n",
    "      message=tools.message_if_missing(CLIENT_SECRETS_PATH))\n",
    "\n",
    "  '''Prepare credentials, and authorize HTTP object with them.\n",
    "  If the credentials don't exist or are invalid run through the native client\n",
    "  flow. The Storage object will ensure that if successful the good\n",
    "  credentials will get written back to a file. '''\n",
    "  storage = file.Storage('analyticsreporting.dat')\n",
    "  credentials = storage.get()\n",
    "  if credentials is None or credentials.invalid:\n",
    "    credentials = tools.run_flow(flow, storage, flags)\n",
    "  http = credentials.authorize(http=httplib2.Http())\n",
    "\n",
    "  # Build the service object.\n",
    "  analytics = build('analytics', 'v4', http=http, discoveryServiceUrl=DISCOVERY_URI)\n",
    "\n",
    "  return analytics\n"
   ]
  },
  {
   "cell_type": "code",
   "execution_count": 3,
   "metadata": {},
   "outputs": [],
   "source": [
    "ga_auth = authenticate_ga_api()"
   ]
  },
  {
   "cell_type": "markdown",
   "metadata": {},
   "source": [
    "# 1. Dimensions and Metrics"
   ]
  },
  {
   "cell_type": "code",
   "execution_count": 4,
   "metadata": {},
   "outputs": [],
   "source": [
    "DIMS = ['ga:pagePath']\n",
    "METRICS = ['ga:pageviews', 'ga:uniquePageviews', 'ga:avgTimeOnPage']"
   ]
  },
  {
   "cell_type": "code",
   "execution_count": 5,
   "metadata": {},
   "outputs": [],
   "source": [
    "requests_list =  [{\n",
    "        'viewId': VIEW_ID,\n",
    "        'dateRanges': [{'startDate': '2019-10-01', 'endDate': '2019-11-01'}],\n",
    "        'dimensions': [{'name': name} for name in DIMS],\n",
    "        'metrics': [{'expression': exp} for exp in METRICS]\n",
    "      }]"
   ]
  },
  {
   "cell_type": "code",
   "execution_count": 6,
   "metadata": {},
   "outputs": [],
   "source": [
    "data = ga_auth.reports().batchGet(body={'reportRequests':requests_list }).execute()"
   ]
  },
  {
   "cell_type": "code",
   "execution_count": 8,
   "metadata": {},
   "outputs": [],
   "source": [
    "data_dic = {f\"{i}\": [] for i in DIMS + METRICS}"
   ]
  },
  {
   "cell_type": "code",
   "execution_count": 9,
   "metadata": {},
   "outputs": [
    {
     "data": {
      "text/plain": [
       "{'ga:pagePath': [],\n",
       " 'ga:pageviews': [],\n",
       " 'ga:uniquePageviews': [],\n",
       " 'ga:avgTimeOnPage': []}"
      ]
     },
     "execution_count": 9,
     "metadata": {},
     "output_type": "execute_result"
    }
   ],
   "source": [
    "data_dic"
   ]
  },
  {
   "cell_type": "code",
   "execution_count": 10,
   "metadata": {},
   "outputs": [],
   "source": [
    "def data_process(data):   \n",
    "    data_dic = {f\"{i}\": [] for i in DIMS + METRICS}\n",
    "    for report in data.get('reports', []):\n",
    "        rows = report.get('data', {}).get('rows', [])\n",
    "        for row in rows:\n",
    "            for i, key in enumerate(DIMS):\n",
    "                data_dic[key].append(row.get('dimensions', [])[i])\n",
    "            dateRangeValues = row.get('metrics', [])\n",
    "            for values in dateRangeValues:\n",
    "                all_values = values.get('values', [])\n",
    "                for i, key in enumerate(METRICS):\n",
    "                    data_dic[key].append(all_values[i])\n",
    "    return data_dic"
   ]
  },
  {
   "cell_type": "code",
   "execution_count": 11,
   "metadata": {},
   "outputs": [],
   "source": [
    "        \n",
    "df = pd.DataFrame(data=data_process(data))\n",
    "df.columns = [col.split(':')[-1] for col in df.columns]"
   ]
  },
  {
   "cell_type": "code",
   "execution_count": null,
   "metadata": {},
   "outputs": [],
   "source": [
    "df.head()"
   ]
  },
  {
   "cell_type": "markdown",
   "metadata": {},
   "source": [
    "# 2. Multiple Date Ranges"
   ]
  },
  {
   "cell_type": "code",
   "execution_count": 13,
   "metadata": {},
   "outputs": [],
   "source": [
    "DIMS = ['ga:pagePath']\n",
    "METRICS = ['ga:pageviews', 'ga:uniquePageviews', 'ga:avgTimeOnPage']"
   ]
  },
  {
   "cell_type": "code",
   "execution_count": 14,
   "metadata": {},
   "outputs": [],
   "source": [
    "requests_list = [\n",
    "          {\n",
    "            'viewId': VIEW_ID,\n",
    "            'dateRanges': [\n",
    "                {'startDate': '2019-08-01', 'endDate': '2019-09-01'},\n",
    "                {'startDate': '2019-09-01', 'endDate': '2019-10-01'}],\n",
    "            'dimensions': [{'name': name} for name in DIMS],\n",
    "            'metrics': [{'expression': exp} for exp in METRICS]\n",
    "          }]"
   ]
  },
  {
   "cell_type": "code",
   "execution_count": 15,
   "metadata": {},
   "outputs": [],
   "source": [
    "data = ga_auth.reports().batchGet(body={'reportRequests':requests_list }).execute()"
   ]
  },
  {
   "cell_type": "code",
   "execution_count": 16,
   "metadata": {},
   "outputs": [],
   "source": [
    "def metric_value_reshape(value_list, n):\n",
    "    \"\"\"\n",
    "    param value_list: list of metric values\n",
    "    param n: number of date ranges\n",
    "    return: a list \n",
    "    \"\"\"\n",
    "    new_list = []\n",
    "    a = []\n",
    "    j = 0\n",
    "    for i in range(len(value_list)//n):\n",
    "        a = value_list[j:j+n]\n",
    "        new_list.append(a)\n",
    "        j +=n\n",
    "    return new_list"
   ]
  },
  {
   "cell_type": "code",
   "execution_count": 17,
   "metadata": {},
   "outputs": [],
   "source": [
    "data_dic = data_process(data)\n",
    "for key in METRICS:\n",
    "    data_dic[key] = metric_value_reshape(data_dic[key], 2)\n",
    "df = pd.DataFrame(data=data_dic)\n",
    "df.columns = [col.split(':')[-1] for col in df.columns]"
   ]
  },
  {
   "cell_type": "code",
   "execution_count": null,
   "metadata": {},
   "outputs": [],
   "source": [
    "df.head()"
   ]
  },
  {
   "cell_type": "markdown",
   "metadata": {},
   "source": [
    "# 3. Multiple Dimentions"
   ]
  },
  {
   "cell_type": "code",
   "execution_count": 19,
   "metadata": {},
   "outputs": [],
   "source": [
    "DIMS = ['ga:userAgeBracket', 'ga:browser']\n",
    "METRICS = ['ga:users',]"
   ]
  },
  {
   "cell_type": "code",
   "execution_count": 20,
   "metadata": {},
   "outputs": [],
   "source": [
    "requests_list = [\n",
    "          {\n",
    "            'viewId': VIEW_ID,\n",
    "            'dateRanges': [\n",
    "                {'startDate': '2019-01-01', 'endDate': '2019-02-01'}],\n",
    "             'dimensions': [{'name': name} for name in DIMS],\n",
    "             'metrics': [{'expression': exp} for exp in METRICS]\n",
    "                }]"
   ]
  },
  {
   "cell_type": "code",
   "execution_count": 21,
   "metadata": {},
   "outputs": [],
   "source": [
    "data = ga_auth.reports().batchGet(body={'reportRequests':requests_list }).execute()"
   ]
  },
  {
   "cell_type": "code",
   "execution_count": 22,
   "metadata": {},
   "outputs": [],
   "source": [
    "data_dic = data_process(data)\n",
    "        \n",
    "df = pd.DataFrame(data=data_dic)\n",
    "df.columns = [col.split(':')[-1] for col in df.columns]"
   ]
  },
  {
   "cell_type": "code",
   "execution_count": 23,
   "metadata": {},
   "outputs": [
    {
     "data": {
      "text/html": [
       "<div>\n",
       "<style scoped>\n",
       "    .dataframe tbody tr th:only-of-type {\n",
       "        vertical-align: middle;\n",
       "    }\n",
       "\n",
       "    .dataframe tbody tr th {\n",
       "        vertical-align: top;\n",
       "    }\n",
       "\n",
       "    .dataframe thead th {\n",
       "        text-align: right;\n",
       "    }\n",
       "</style>\n",
       "<table border=\"1\" class=\"dataframe\">\n",
       "  <thead>\n",
       "    <tr style=\"text-align: right;\">\n",
       "      <th></th>\n",
       "      <th>userAgeBracket</th>\n",
       "      <th>browser</th>\n",
       "      <th>users</th>\n",
       "    </tr>\n",
       "  </thead>\n",
       "  <tbody>\n",
       "    <tr>\n",
       "      <th>0</th>\n",
       "      <td>18-24</td>\n",
       "      <td>Chrome</td>\n",
       "      <td>147</td>\n",
       "    </tr>\n",
       "    <tr>\n",
       "      <th>1</th>\n",
       "      <td>18-24</td>\n",
       "      <td>Edge</td>\n",
       "      <td>13</td>\n",
       "    </tr>\n",
       "    <tr>\n",
       "      <th>2</th>\n",
       "      <td>18-24</td>\n",
       "      <td>Internet Explorer</td>\n",
       "      <td>18</td>\n",
       "    </tr>\n",
       "    <tr>\n",
       "      <th>3</th>\n",
       "      <td>18-24</td>\n",
       "      <td>Safari</td>\n",
       "      <td>18</td>\n",
       "    </tr>\n",
       "    <tr>\n",
       "      <th>4</th>\n",
       "      <td>25-34</td>\n",
       "      <td>Android Webview</td>\n",
       "      <td>31</td>\n",
       "    </tr>\n",
       "  </tbody>\n",
       "</table>\n",
       "</div>"
      ],
      "text/plain": [
       "  userAgeBracket            browser users\n",
       "0          18-24             Chrome   147\n",
       "1          18-24               Edge    13\n",
       "2          18-24  Internet Explorer    18\n",
       "3          18-24             Safari    18\n",
       "4          25-34    Android Webview    31"
      ]
     },
     "execution_count": 23,
     "metadata": {},
     "output_type": "execute_result"
    }
   ],
   "source": [
    "df.head()"
   ]
  },
  {
   "cell_type": "markdown",
   "metadata": {},
   "source": [
    "# 4. Histogram Buckets"
   ]
  },
  {
   "cell_type": "code",
   "execution_count": 24,
   "metadata": {},
   "outputs": [],
   "source": [
    "DIMS = ['ga:sessionCount']\n",
    "METRICS = ['ga:users',]"
   ]
  },
  {
   "cell_type": "code",
   "execution_count": 25,
   "metadata": {},
   "outputs": [],
   "source": [
    "requests_list = [\n",
    "          {\n",
    "            'viewId': VIEW_ID,\n",
    "            'dateRanges': [\n",
    "                {'startDate': '2019-08-01', 'endDate': '2019-09-01'}],\n",
    "            'dimensions': [\n",
    "                          {'name': name,\n",
    "                          \"histogramBuckets\":[\"1\",\"10\",\"50\",\"100\",\"200\"]\n",
    "                          } for name in DIMS],\n",
    "            'metrics': [{'expression': exp} for exp in METRICS],\n",
    "            \"orderBys\":[\n",
    "                {\n",
    "                  \"fieldName\":\"ga:sessionCount\",\n",
    "                  \"orderType\":\"HISTOGRAM_BUCKET\"\n",
    "                }],\n",
    "          }]"
   ]
  },
  {
   "cell_type": "code",
   "execution_count": null,
   "metadata": {},
   "outputs": [],
   "source": [
    "requests_list"
   ]
  },
  {
   "cell_type": "code",
   "execution_count": 27,
   "metadata": {},
   "outputs": [],
   "source": [
    "data = ga_auth.reports().batchGet(body={'reportRequests':requests_list }).execute()"
   ]
  },
  {
   "cell_type": "code",
   "execution_count": 28,
   "metadata": {},
   "outputs": [],
   "source": [
    "data_dic = data_process(data)"
   ]
  },
  {
   "cell_type": "code",
   "execution_count": 29,
   "metadata": {},
   "outputs": [],
   "source": [
    "df = pd.DataFrame(data=data_dic)\n",
    "df.columns = [col.split(':')[-1] for col in df.columns]"
   ]
  },
  {
   "cell_type": "code",
   "execution_count": 30,
   "metadata": {},
   "outputs": [
    {
     "data": {
      "text/html": [
       "<div>\n",
       "<style scoped>\n",
       "    .dataframe tbody tr th:only-of-type {\n",
       "        vertical-align: middle;\n",
       "    }\n",
       "\n",
       "    .dataframe tbody tr th {\n",
       "        vertical-align: top;\n",
       "    }\n",
       "\n",
       "    .dataframe thead th {\n",
       "        text-align: right;\n",
       "    }\n",
       "</style>\n",
       "<table border=\"1\" class=\"dataframe\">\n",
       "  <thead>\n",
       "    <tr style=\"text-align: right;\">\n",
       "      <th></th>\n",
       "      <th>sessionCount</th>\n",
       "      <th>users</th>\n",
       "    </tr>\n",
       "  </thead>\n",
       "  <tbody>\n",
       "    <tr>\n",
       "      <th>0</th>\n",
       "      <td>1-9</td>\n",
       "      <td>20341</td>\n",
       "    </tr>\n",
       "    <tr>\n",
       "      <th>1</th>\n",
       "      <td>10-49</td>\n",
       "      <td>6429</td>\n",
       "    </tr>\n",
       "    <tr>\n",
       "      <th>2</th>\n",
       "      <td>50-99</td>\n",
       "      <td>3635</td>\n",
       "    </tr>\n",
       "    <tr>\n",
       "      <th>3</th>\n",
       "      <td>100-199</td>\n",
       "      <td>4769</td>\n",
       "    </tr>\n",
       "    <tr>\n",
       "      <th>4</th>\n",
       "      <td>200+</td>\n",
       "      <td>31560</td>\n",
       "    </tr>\n",
       "  </tbody>\n",
       "</table>\n",
       "</div>"
      ],
      "text/plain": [
       "  sessionCount  users\n",
       "0          1-9  20341\n",
       "1        10-49   6429\n",
       "2        50-99   3635\n",
       "3      100-199   4769\n",
       "4         200+  31560"
      ]
     },
     "execution_count": 30,
     "metadata": {},
     "output_type": "execute_result"
    }
   ],
   "source": [
    "df.head()"
   ]
  },
  {
   "cell_type": "markdown",
   "metadata": {},
   "source": [
    "# 5. Pivots"
   ]
  },
  {
   "cell_type": "code",
   "execution_count": 31,
   "metadata": {},
   "outputs": [],
   "source": [
    "DIMS = ['ga:userAgeBracket']\n",
    "METRICS = ['ga:sessions', 'pageviews']"
   ]
  },
  {
   "cell_type": "code",
   "execution_count": 32,
   "metadata": {},
   "outputs": [],
   "source": [
    "requests_list = [\n",
    "  {\n",
    "    \"viewId\":VIEW_ID,\n",
    "    \"dateRanges\":[\n",
    "    {\n",
    "      \"endDate\":\"2019-11-09\",\n",
    "      \"startDate\":\"2019-11-03\"\n",
    "    }],\n",
    "    \"dimensions\":[\n",
    "    {\n",
    "      \"name\":\"ga:browser\"\n",
    "    },\n",
    "    {\n",
    "      \"name\":\"ga:date\"\n",
    "    }],\n",
    "    \"metrics\":[\n",
    "    {\n",
    "      \"alias\":\"sessions\",\n",
    "      \"expression\":\"ga:sessions\"\n",
    "    }],\n",
    "    \"pivots\":[\n",
    "    {\n",
    "      \"dimensions\":[\n",
    "      {\n",
    "        \"name\":\"ga:userAgeBracket\"\n",
    "      }],\n",
    "      \"startGroup\":\"0\",\n",
    "      \"maxGroupCount\":\"6\",\n",
    "      \"metrics\":[\n",
    "      {\n",
    "        \"alias\":\"sessions\",\n",
    "        \"expression\":\"ga:sessions\"\n",
    "      },\n",
    "      {\n",
    "        \"alias\":\"pageviews\",\n",
    "        \"expression\":\"ga:pageviews\"\n",
    "      }]\n",
    "    }]\n",
    "  }]"
   ]
  },
  {
   "cell_type": "code",
   "execution_count": 33,
   "metadata": {},
   "outputs": [],
   "source": [
    "data = ga_auth.reports().batchGet(body={'reportRequests':requests_list }).execute()"
   ]
  },
  {
   "cell_type": "code",
   "execution_count": null,
   "metadata": {},
   "outputs": [],
   "source": [
    "data"
   ]
  }
 ],
 "metadata": {
  "kernelspec": {
   "display_name": "Python 3",
   "language": "python",
   "name": "python3"
  },
  "language_info": {
   "codemirror_mode": {
    "name": "ipython",
    "version": 3
   },
   "file_extension": ".py",
   "mimetype": "text/x-python",
   "name": "python",
   "nbconvert_exporter": "python",
   "pygments_lexer": "ipython3",
   "version": "3.6.8"
  }
 },
 "nbformat": 4,
 "nbformat_minor": 4
}
