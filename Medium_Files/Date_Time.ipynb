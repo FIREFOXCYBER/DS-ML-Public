{
 "cells": [
  {
   "cell_type": "markdown",
   "metadata": {},
   "source": [
    "# <center>Article : [A Complete Date-Time Guide for Data Scientist in Python]()\n",
    "# <center><span style='color:blue;background:yellow;font-size:50px'>Pandas </span></center>"
   ]
  },
  {
   "cell_type": "code",
   "execution_count": 316,
   "metadata": {},
   "outputs": [],
   "source": [
    "import pandas as pd"
   ]
  },
  {
   "cell_type": "markdown",
   "metadata": {},
   "source": [
    "## <span style='color:blue;background:yellow'>String to Timestamp"
   ]
  },
  {
   "cell_type": "code",
   "execution_count": 317,
   "metadata": {},
   "outputs": [
    {
     "data": {
      "text/html": [
       "<div>\n",
       "<style scoped>\n",
       "    .dataframe tbody tr th:only-of-type {\n",
       "        vertical-align: middle;\n",
       "    }\n",
       "\n",
       "    .dataframe tbody tr th {\n",
       "        vertical-align: top;\n",
       "    }\n",
       "\n",
       "    .dataframe thead th {\n",
       "        text-align: right;\n",
       "    }\n",
       "</style>\n",
       "<table border=\"1\" class=\"dataframe\">\n",
       "  <thead>\n",
       "    <tr style=\"text-align: right;\">\n",
       "      <th></th>\n",
       "      <th>DATE</th>\n",
       "      <th>POOL</th>\n",
       "      <th>MATCH</th>\n",
       "      <th>MATCH.1</th>\n",
       "      <th>MATCH.2</th>\n",
       "      <th>MATCH.3</th>\n",
       "      <th>MATCH.4</th>\n",
       "      <th>KICK-OFFS</th>\n",
       "      <th>VENUE</th>\n",
       "      <th>LIVE BROADCASTS</th>\n",
       "    </tr>\n",
       "  </thead>\n",
       "  <tbody>\n",
       "    <tr>\n",
       "      <th>0</th>\n",
       "      <td>Sept. 20 2019</td>\n",
       "      <td>A</td>\n",
       "      <td>Japan</td>\n",
       "      <td>30</td>\n",
       "      <td>–</td>\n",
       "      <td>10</td>\n",
       "      <td>Russia</td>\n",
       "      <td>19:45</td>\n",
       "      <td>Tokyo Stadium</td>\n",
       "      <td>J-Sports, NTV, BS1</td>\n",
       "    </tr>\n",
       "    <tr>\n",
       "      <th>1</th>\n",
       "      <td>Sept. 21 2019</td>\n",
       "      <td>D</td>\n",
       "      <td>Australia</td>\n",
       "      <td>39</td>\n",
       "      <td>–</td>\n",
       "      <td>21</td>\n",
       "      <td>Fiji</td>\n",
       "      <td>13:45</td>\n",
       "      <td>Sapporo Dome</td>\n",
       "      <td>J-Sports, NTV, BS1</td>\n",
       "    </tr>\n",
       "    <tr>\n",
       "      <th>2</th>\n",
       "      <td>Sept. 21 2019</td>\n",
       "      <td>C</td>\n",
       "      <td>France</td>\n",
       "      <td>23</td>\n",
       "      <td>–</td>\n",
       "      <td>21</td>\n",
       "      <td>Argentina</td>\n",
       "      <td>16:15</td>\n",
       "      <td>Tokyo Stadium</td>\n",
       "      <td>J-Sports</td>\n",
       "    </tr>\n",
       "    <tr>\n",
       "      <th>3</th>\n",
       "      <td>Sept. 21 2019</td>\n",
       "      <td>B</td>\n",
       "      <td>New Zealand</td>\n",
       "      <td>23</td>\n",
       "      <td>–</td>\n",
       "      <td>13</td>\n",
       "      <td>South Africa</td>\n",
       "      <td>18:45</td>\n",
       "      <td>International Stadium Yokohama</td>\n",
       "      <td>J-Sports</td>\n",
       "    </tr>\n",
       "    <tr>\n",
       "      <th>4</th>\n",
       "      <td>Sept. 22 2019</td>\n",
       "      <td>B</td>\n",
       "      <td>Italy</td>\n",
       "      <td>47</td>\n",
       "      <td>–</td>\n",
       "      <td>22</td>\n",
       "      <td>Namibia</td>\n",
       "      <td>14:15</td>\n",
       "      <td>Hanazono Rugby Stadium</td>\n",
       "      <td>J-Sports</td>\n",
       "    </tr>\n",
       "  </tbody>\n",
       "</table>\n",
       "</div>"
      ],
      "text/plain": [
       "             DATE POOL        MATCH MATCH.1 MATCH.2 MATCH.3       MATCH.4  \\\n",
       "0   Sept. 20 2019    A        Japan      30       –      10        Russia   \n",
       "1   Sept. 21 2019    D    Australia      39       –      21          Fiji   \n",
       "2   Sept. 21 2019    C       France      23       –      21     Argentina   \n",
       "3   Sept. 21 2019    B  New Zealand      23       –      13  South Africa   \n",
       "4   Sept. 22 2019    B        Italy      47       –      22       Namibia   \n",
       "\n",
       "  KICK-OFFS                           VENUE     LIVE BROADCASTS  \n",
       "0     19:45                   Tokyo Stadium  J-Sports, NTV, BS1  \n",
       "1     13:45                    Sapporo Dome  J-Sports, NTV, BS1  \n",
       "2     16:15                   Tokyo Stadium            J-Sports  \n",
       "3     18:45  International Stadium Yokohama            J-Sports  \n",
       "4     14:15          Hanazono Rugby Stadium            J-Sports  "
      ]
     },
     "execution_count": 317,
     "metadata": {},
     "output_type": "execute_result"
    }
   ],
   "source": [
    "df = pd.read_csv('data/rugby_world_cup_2019.csv')\n",
    "df.head()"
   ]
  },
  {
   "cell_type": "code",
   "execution_count": 318,
   "metadata": {},
   "outputs": [
    {
     "data": {
      "text/plain": [
       "dtype('O')"
      ]
     },
     "execution_count": 318,
     "metadata": {},
     "output_type": "execute_result"
    }
   ],
   "source": [
    "df.DATE.dtype"
   ]
  },
  {
   "cell_type": "code",
   "execution_count": 319,
   "metadata": {},
   "outputs": [],
   "source": [
    "df.DATE = pd.to_datetime(df['DATE'] +' ' +df['KICK-OFFS'])"
   ]
  },
  {
   "cell_type": "code",
   "execution_count": 320,
   "metadata": {},
   "outputs": [
    {
     "data": {
      "text/html": [
       "<div>\n",
       "<style scoped>\n",
       "    .dataframe tbody tr th:only-of-type {\n",
       "        vertical-align: middle;\n",
       "    }\n",
       "\n",
       "    .dataframe tbody tr th {\n",
       "        vertical-align: top;\n",
       "    }\n",
       "\n",
       "    .dataframe thead th {\n",
       "        text-align: right;\n",
       "    }\n",
       "</style>\n",
       "<table border=\"1\" class=\"dataframe\">\n",
       "  <thead>\n",
       "    <tr style=\"text-align: right;\">\n",
       "      <th></th>\n",
       "      <th>DATE</th>\n",
       "      <th>POOL</th>\n",
       "      <th>MATCH</th>\n",
       "      <th>MATCH.1</th>\n",
       "      <th>MATCH.2</th>\n",
       "      <th>MATCH.3</th>\n",
       "      <th>MATCH.4</th>\n",
       "      <th>KICK-OFFS</th>\n",
       "      <th>VENUE</th>\n",
       "      <th>LIVE BROADCASTS</th>\n",
       "    </tr>\n",
       "  </thead>\n",
       "  <tbody>\n",
       "    <tr>\n",
       "      <th>0</th>\n",
       "      <td>2019-09-20 19:45:00</td>\n",
       "      <td>A</td>\n",
       "      <td>Japan</td>\n",
       "      <td>30</td>\n",
       "      <td>–</td>\n",
       "      <td>10</td>\n",
       "      <td>Russia</td>\n",
       "      <td>19:45</td>\n",
       "      <td>Tokyo Stadium</td>\n",
       "      <td>J-Sports, NTV, BS1</td>\n",
       "    </tr>\n",
       "    <tr>\n",
       "      <th>1</th>\n",
       "      <td>2019-09-21 13:45:00</td>\n",
       "      <td>D</td>\n",
       "      <td>Australia</td>\n",
       "      <td>39</td>\n",
       "      <td>–</td>\n",
       "      <td>21</td>\n",
       "      <td>Fiji</td>\n",
       "      <td>13:45</td>\n",
       "      <td>Sapporo Dome</td>\n",
       "      <td>J-Sports, NTV, BS1</td>\n",
       "    </tr>\n",
       "    <tr>\n",
       "      <th>2</th>\n",
       "      <td>2019-09-21 16:15:00</td>\n",
       "      <td>C</td>\n",
       "      <td>France</td>\n",
       "      <td>23</td>\n",
       "      <td>–</td>\n",
       "      <td>21</td>\n",
       "      <td>Argentina</td>\n",
       "      <td>16:15</td>\n",
       "      <td>Tokyo Stadium</td>\n",
       "      <td>J-Sports</td>\n",
       "    </tr>\n",
       "    <tr>\n",
       "      <th>3</th>\n",
       "      <td>2019-09-21 18:45:00</td>\n",
       "      <td>B</td>\n",
       "      <td>New Zealand</td>\n",
       "      <td>23</td>\n",
       "      <td>–</td>\n",
       "      <td>13</td>\n",
       "      <td>South Africa</td>\n",
       "      <td>18:45</td>\n",
       "      <td>International Stadium Yokohama</td>\n",
       "      <td>J-Sports</td>\n",
       "    </tr>\n",
       "    <tr>\n",
       "      <th>4</th>\n",
       "      <td>2019-09-22 14:15:00</td>\n",
       "      <td>B</td>\n",
       "      <td>Italy</td>\n",
       "      <td>47</td>\n",
       "      <td>–</td>\n",
       "      <td>22</td>\n",
       "      <td>Namibia</td>\n",
       "      <td>14:15</td>\n",
       "      <td>Hanazono Rugby Stadium</td>\n",
       "      <td>J-Sports</td>\n",
       "    </tr>\n",
       "  </tbody>\n",
       "</table>\n",
       "</div>"
      ],
      "text/plain": [
       "                 DATE POOL        MATCH MATCH.1 MATCH.2 MATCH.3       MATCH.4  \\\n",
       "0 2019-09-20 19:45:00    A        Japan      30       –      10        Russia   \n",
       "1 2019-09-21 13:45:00    D    Australia      39       –      21          Fiji   \n",
       "2 2019-09-21 16:15:00    C       France      23       –      21     Argentina   \n",
       "3 2019-09-21 18:45:00    B  New Zealand      23       –      13  South Africa   \n",
       "4 2019-09-22 14:15:00    B        Italy      47       –      22       Namibia   \n",
       "\n",
       "  KICK-OFFS                           VENUE     LIVE BROADCASTS  \n",
       "0     19:45                   Tokyo Stadium  J-Sports, NTV, BS1  \n",
       "1     13:45                    Sapporo Dome  J-Sports, NTV, BS1  \n",
       "2     16:15                   Tokyo Stadium            J-Sports  \n",
       "3     18:45  International Stadium Yokohama            J-Sports  \n",
       "4     14:15          Hanazono Rugby Stadium            J-Sports  "
      ]
     },
     "execution_count": 320,
     "metadata": {},
     "output_type": "execute_result"
    }
   ],
   "source": [
    "df.head()"
   ]
  },
  {
   "cell_type": "code",
   "execution_count": 321,
   "metadata": {},
   "outputs": [
    {
     "data": {
      "text/plain": [
       "pandas._libs.tslibs.timestamps.Timestamp"
      ]
     },
     "execution_count": 321,
     "metadata": {},
     "output_type": "execute_result"
    }
   ],
   "source": [
    "type(df.DATE[0])"
   ]
  },
  {
   "cell_type": "markdown",
   "metadata": {},
   "source": [
    "## <span style='color:blue;background:yellow'>Seconds and Nanoseconds to Timestamp"
   ]
  },
  {
   "cell_type": "code",
   "execution_count": 54,
   "metadata": {},
   "outputs": [
    {
     "data": {
      "text/plain": [
       "Timestamp('2020-09-13 11:26:29')"
      ]
     },
     "execution_count": 54,
     "metadata": {},
     "output_type": "execute_result"
    }
   ],
   "source": [
    "pd.to_datetime(1599996389, unit='s')"
   ]
  },
  {
   "cell_type": "code",
   "execution_count": 55,
   "metadata": {},
   "outputs": [
    {
     "data": {
      "text/plain": [
       "Timestamp('1970-01-01 00:00:01.599996389')"
      ]
     },
     "execution_count": 55,
     "metadata": {},
     "output_type": "execute_result"
    }
   ],
   "source": [
    "pd.to_datetime(1599996389, unit='ns')"
   ]
  },
  {
   "cell_type": "markdown",
   "metadata": {},
   "source": [
    "## <span style='color:blue;background:yellow'> Get Year, Month, Day of Month, Day of Week, Hour, Mintues and Seconds </span>"
   ]
  },
  {
   "cell_type": "code",
   "execution_count": 136,
   "metadata": {},
   "outputs": [
    {
     "data": {
      "text/html": [
       "<div>\n",
       "<style scoped>\n",
       "    .dataframe tbody tr th:only-of-type {\n",
       "        vertical-align: middle;\n",
       "    }\n",
       "\n",
       "    .dataframe tbody tr th {\n",
       "        vertical-align: top;\n",
       "    }\n",
       "\n",
       "    .dataframe thead th {\n",
       "        text-align: right;\n",
       "    }\n",
       "</style>\n",
       "<table border=\"1\" class=\"dataframe\">\n",
       "  <thead>\n",
       "    <tr style=\"text-align: right;\">\n",
       "      <th></th>\n",
       "      <th>DATE</th>\n",
       "      <th>POOL</th>\n",
       "      <th>MATCH</th>\n",
       "      <th>MATCH.1</th>\n",
       "      <th>MATCH.2</th>\n",
       "      <th>MATCH.3</th>\n",
       "      <th>MATCH.4</th>\n",
       "      <th>KICK-OFFS</th>\n",
       "      <th>VENUE</th>\n",
       "      <th>LIVE BROADCASTS</th>\n",
       "    </tr>\n",
       "  </thead>\n",
       "  <tbody>\n",
       "    <tr>\n",
       "      <th>0</th>\n",
       "      <td>2019-09-20 19:45:00</td>\n",
       "      <td>A</td>\n",
       "      <td>Japan</td>\n",
       "      <td>30</td>\n",
       "      <td>–</td>\n",
       "      <td>10</td>\n",
       "      <td>Russia</td>\n",
       "      <td>19:45</td>\n",
       "      <td>Tokyo Stadium</td>\n",
       "      <td>J-Sports, NTV, BS1</td>\n",
       "    </tr>\n",
       "    <tr>\n",
       "      <th>1</th>\n",
       "      <td>2019-09-21 13:45:00</td>\n",
       "      <td>D</td>\n",
       "      <td>Australia</td>\n",
       "      <td>39</td>\n",
       "      <td>–</td>\n",
       "      <td>21</td>\n",
       "      <td>Fiji</td>\n",
       "      <td>13:45</td>\n",
       "      <td>Sapporo Dome</td>\n",
       "      <td>J-Sports, NTV, BS1</td>\n",
       "    </tr>\n",
       "    <tr>\n",
       "      <th>2</th>\n",
       "      <td>2019-09-21 16:15:00</td>\n",
       "      <td>C</td>\n",
       "      <td>France</td>\n",
       "      <td>23</td>\n",
       "      <td>–</td>\n",
       "      <td>21</td>\n",
       "      <td>Argentina</td>\n",
       "      <td>16:15</td>\n",
       "      <td>Tokyo Stadium</td>\n",
       "      <td>J-Sports</td>\n",
       "    </tr>\n",
       "    <tr>\n",
       "      <th>3</th>\n",
       "      <td>2019-09-21 18:45:00</td>\n",
       "      <td>B</td>\n",
       "      <td>New Zealand</td>\n",
       "      <td>23</td>\n",
       "      <td>–</td>\n",
       "      <td>13</td>\n",
       "      <td>South Africa</td>\n",
       "      <td>18:45</td>\n",
       "      <td>International Stadium Yokohama</td>\n",
       "      <td>J-Sports</td>\n",
       "    </tr>\n",
       "    <tr>\n",
       "      <th>4</th>\n",
       "      <td>2019-09-22 14:15:00</td>\n",
       "      <td>B</td>\n",
       "      <td>Italy</td>\n",
       "      <td>47</td>\n",
       "      <td>–</td>\n",
       "      <td>22</td>\n",
       "      <td>Namibia</td>\n",
       "      <td>14:15</td>\n",
       "      <td>Hanazono Rugby Stadium</td>\n",
       "      <td>J-Sports</td>\n",
       "    </tr>\n",
       "  </tbody>\n",
       "</table>\n",
       "</div>"
      ],
      "text/plain": [
       "                 DATE POOL        MATCH MATCH.1 MATCH.2 MATCH.3       MATCH.4  \\\n",
       "0 2019-09-20 19:45:00    A        Japan      30       –      10        Russia   \n",
       "1 2019-09-21 13:45:00    D    Australia      39       –      21          Fiji   \n",
       "2 2019-09-21 16:15:00    C       France      23       –      21     Argentina   \n",
       "3 2019-09-21 18:45:00    B  New Zealand      23       –      13  South Africa   \n",
       "4 2019-09-22 14:15:00    B        Italy      47       –      22       Namibia   \n",
       "\n",
       "  KICK-OFFS                           VENUE     LIVE BROADCASTS  \n",
       "0     19:45                   Tokyo Stadium  J-Sports, NTV, BS1  \n",
       "1     13:45                    Sapporo Dome  J-Sports, NTV, BS1  \n",
       "2     16:15                   Tokyo Stadium            J-Sports  \n",
       "3     18:45  International Stadium Yokohama            J-Sports  \n",
       "4     14:15          Hanazono Rugby Stadium            J-Sports  "
      ]
     },
     "execution_count": 136,
     "metadata": {},
     "output_type": "execute_result"
    }
   ],
   "source": [
    "df = pd.read_csv('data/rugby_world_cup_2019.csv')\n",
    "df.DATE = pd.to_datetime(df['DATE'] +' ' +df['KICK-OFFS'])\n",
    "df.head()"
   ]
  },
  {
   "cell_type": "code",
   "execution_count": 160,
   "metadata": {},
   "outputs": [
    {
     "name": "stdout",
     "output_type": "stream",
     "text": [
      "Year : 2019\n",
      "Month : 9\n",
      "Day of Month : 20\n",
      "Day of Week : 4\n",
      "Hour : 19\n",
      "Minutes : 45\n",
      "Seconds : 0\n"
     ]
    }
   ],
   "source": [
    "print('Year :',df.DATE[0].year) # Get year\n",
    "print('Month :',df.DATE[0].month) # Get month\n",
    "print('Day of Month :',df.DATE[0].day) # Get day of month\n",
    "print('Day of Week :',df.DATE[0].weekday()) # Get weekday 0-6 --> Monday to Sunday\n",
    "print('Hour :',df.DATE[0].hour)  # Get hour \n",
    "print('Minutes :',df.DATE[0].minute) # Get minutes\n",
    "print('Seconds :',df.DATE[0].second) # Get Seconds"
   ]
  },
  {
   "cell_type": "markdown",
   "metadata": {},
   "source": [
    "## <span style='color:blue;background:yellow'> Changing Timestamp Formats  </span>"
   ]
  },
  {
   "cell_type": "code",
   "execution_count": 163,
   "metadata": {},
   "outputs": [
    {
     "data": {
      "text/plain": [
       "'20-09-2019'"
      ]
     },
     "execution_count": 163,
     "metadata": {},
     "output_type": "execute_result"
    }
   ],
   "source": [
    "df.DATE[0].strftime('%d-%m-%Y') # Format --> dd-mm-yyyy"
   ]
  },
  {
   "cell_type": "code",
   "execution_count": 164,
   "metadata": {},
   "outputs": [
    {
     "data": {
      "text/plain": [
       "'20-Sep-2019'"
      ]
     },
     "execution_count": 164,
     "metadata": {},
     "output_type": "execute_result"
    }
   ],
   "source": [
    "df.DATE[0].strftime('%d-%b-%Y') # Format --> dd-mm-yyyy  > It returns name of month instead of month number"
   ]
  },
  {
   "cell_type": "code",
   "execution_count": 168,
   "metadata": {},
   "outputs": [
    {
     "data": {
      "text/plain": [
       "'20-Sep-2019 19:45:00'"
      ]
     },
     "execution_count": 168,
     "metadata": {},
     "output_type": "execute_result"
    }
   ],
   "source": [
    "df.DATE[0].strftime('%d-%b-%Y %H:%M:%S') # Format --> dd-mm-yyyy HH:MM:SS"
   ]
  },
  {
   "cell_type": "markdown",
   "metadata": {},
   "source": [
    "# <center><span style='color:blue;background:yellow;font-size:50px'>datetime</span></center>"
   ]
  },
  {
   "cell_type": "markdown",
   "metadata": {},
   "source": [
    "## <span style='color:blue;background:yellow'> datetime </span>"
   ]
  },
  {
   "cell_type": "code",
   "execution_count": 245,
   "metadata": {},
   "outputs": [],
   "source": [
    "from datetime import datetime, timedelta"
   ]
  },
  {
   "cell_type": "code",
   "execution_count": 246,
   "metadata": {},
   "outputs": [
    {
     "data": {
      "text/plain": [
       "datetime.datetime(2019, 10, 9, 14, 51, 10, 400603)"
      ]
     },
     "execution_count": 246,
     "metadata": {},
     "output_type": "execute_result"
    }
   ],
   "source": [
    "datetime.today() # Get current time in current time zone"
   ]
  },
  {
   "cell_type": "code",
   "execution_count": 247,
   "metadata": {},
   "outputs": [
    {
     "data": {
      "text/plain": [
       "datetime.datetime(2019, 10, 9, 14, 51, 10, 457401)"
      ]
     },
     "execution_count": 247,
     "metadata": {},
     "output_type": "execute_result"
    }
   ],
   "source": [
    "datetime.now() # Get current time in current time zone"
   ]
  },
  {
   "cell_type": "code",
   "execution_count": 248,
   "metadata": {},
   "outputs": [
    {
     "data": {
      "text/plain": [
       "datetime.datetime(2019, 10, 9, 5, 51, 10, 664766)"
      ]
     },
     "execution_count": 248,
     "metadata": {},
     "output_type": "execute_result"
    }
   ],
   "source": [
    "datetime.utcnow() # Get current time in UTC time zone"
   ]
  },
  {
   "cell_type": "code",
   "execution_count": 249,
   "metadata": {},
   "outputs": [],
   "source": [
    "date = datetime(2019,10,4) # create a datetime object"
   ]
  },
  {
   "cell_type": "code",
   "execution_count": 250,
   "metadata": {},
   "outputs": [],
   "source": [
    "date = datetime.now()"
   ]
  },
  {
   "cell_type": "code",
   "execution_count": 251,
   "metadata": {},
   "outputs": [
    {
     "name": "stdout",
     "output_type": "stream",
     "text": [
      "Year : 2019\n",
      "Month : 10\n",
      "Day of Month : 9\n",
      "Day of Week : 2\n",
      "Hour : 14\n",
      "Minutes : 51\n",
      "Seconds : 11\n"
     ]
    }
   ],
   "source": [
    "print('Year :',date.year) # Get year\n",
    "print('Month :',date.month) # Get month\n",
    "print('Day of Month :',date.day) # Get day of month\n",
    "print('Day of Week :',date.weekday()) # Get weekday 0-6 --> Monday to Sunday\n",
    "print('Hour :',date.hour)  # Get hour \n",
    "print('Minutes :',date.minute) # Get minutes\n",
    "print('Seconds :',date.second) # Get Seconds"
   ]
  },
  {
   "cell_type": "markdown",
   "metadata": {},
   "source": [
    "## <span style='color:blue;background:yellow'> timedelta </span>"
   ]
  },
  {
   "cell_type": "code",
   "execution_count": 252,
   "metadata": {},
   "outputs": [],
   "source": [
    "date = datetime.now()"
   ]
  },
  {
   "cell_type": "code",
   "execution_count": 253,
   "metadata": {},
   "outputs": [
    {
     "data": {
      "text/plain": [
       "datetime.datetime(2019, 9, 29, 14, 53, 3, 396341)"
      ]
     },
     "execution_count": 253,
     "metadata": {},
     "output_type": "execute_result"
    }
   ],
   "source": [
    "date - timedelta(days=10) # Subtract 10 days"
   ]
  },
  {
   "cell_type": "code",
   "execution_count": 254,
   "metadata": {},
   "outputs": [
    {
     "data": {
      "text/plain": [
       "datetime.datetime(2019, 9, 30, 11, 49, 3, 396341)"
      ]
     },
     "execution_count": 254,
     "metadata": {},
     "output_type": "execute_result"
    }
   ],
   "source": [
    "date - timedelta(weeks =1, days=2, hours=3, minutes=4) # Subtract 1 week , 2 days, 3 hours and 4 minutes"
   ]
  },
  {
   "cell_type": "code",
   "execution_count": 255,
   "metadata": {},
   "outputs": [
    {
     "data": {
      "text/plain": [
       "datetime.datetime(2019, 10, 20, 14, 53, 3, 396341)"
      ]
     },
     "execution_count": 255,
     "metadata": {},
     "output_type": "execute_result"
    }
   ],
   "source": [
    "date + timedelta(days=11)  # add 11 days"
   ]
  },
  {
   "cell_type": "markdown",
   "metadata": {},
   "source": [
    "## <span style='color:blue;background:yellow'> pytz </span>"
   ]
  },
  {
   "cell_type": "code",
   "execution_count": 293,
   "metadata": {},
   "outputs": [],
   "source": [
    "import pytz "
   ]
  },
  {
   "cell_type": "code",
   "execution_count": 294,
   "metadata": {},
   "outputs": [
    {
     "data": {
      "text/plain": [
       "['Africa/Abidjan',\n",
       " 'Africa/Accra',\n",
       " 'Africa/Addis_Ababa',\n",
       " 'Africa/Algiers',\n",
       " 'Africa/Asmara']"
      ]
     },
     "execution_count": 294,
     "metadata": {},
     "output_type": "execute_result"
    }
   ],
   "source": [
    "pytz.all_timezones[:5]"
   ]
  },
  {
   "cell_type": "code",
   "execution_count": 295,
   "metadata": {},
   "outputs": [
    {
     "data": {
      "text/plain": [
       "'2019-10-09 15:29:44'"
      ]
     },
     "execution_count": 295,
     "metadata": {},
     "output_type": "execute_result"
    }
   ],
   "source": [
    "tz = pytz.timezone('Asia/Tokyo') # define timezone \n",
    "datetime.now(tz=tz).strftime('%Y-%m-%d %H:%M:%S') # Get current date and time in Asia/Tokyo zone "
   ]
  },
  {
   "cell_type": "code",
   "execution_count": 296,
   "metadata": {},
   "outputs": [
    {
     "data": {
      "text/plain": [
       "'2019-10-09 11:59:45'"
      ]
     },
     "execution_count": 296,
     "metadata": {},
     "output_type": "execute_result"
    }
   ],
   "source": [
    "tz = pytz.timezone('Asia/Kolkata')\n",
    "datetime.now(tz=tz).strftime('%Y-%m-%d %H:%M:%S')"
   ]
  },
  {
   "cell_type": "code",
   "execution_count": 297,
   "metadata": {},
   "outputs": [
    {
     "data": {
      "text/plain": [
       "'2019-10-09 10:29:45'"
      ]
     },
     "execution_count": 297,
     "metadata": {},
     "output_type": "execute_result"
    }
   ],
   "source": [
    "tz = pytz.timezone('Asia/Dubai')\n",
    "datetime.now(tz=tz).strftime('%Y-%m-%d %H:%M:%S')"
   ]
  },
  {
   "cell_type": "code",
   "execution_count": 298,
   "metadata": {},
   "outputs": [
    {
     "data": {
      "text/plain": [
       "datetime.datetime(2019, 10, 9, 10, 34, 3, tzinfo=<DstTzInfo 'Asia/Dubai' LMT+3:41:00 STD>)"
      ]
     },
     "execution_count": 298,
     "metadata": {},
     "output_type": "execute_result"
    }
   ],
   "source": [
    "tz = pytz.timezone('Asia/Dubai')\n",
    "datetime(2019,10,9,10,34,3, tzinfo=tz)  # create a datetime object in Asia/Dubai time zone"
   ]
  },
  {
   "cell_type": "markdown",
   "metadata": {},
   "source": [
    "## <span style='color:blue;background:yellow'> dateutil </span>"
   ]
  },
  {
   "cell_type": "code",
   "execution_count": 306,
   "metadata": {},
   "outputs": [],
   "source": [
    "from dateutil.parser import parse\n",
    "from dateutil.relativedelta import relativedelta"
   ]
  },
  {
   "cell_type": "code",
   "execution_count": 307,
   "metadata": {},
   "outputs": [
    {
     "data": {
      "text/plain": [
       "datetime.datetime(2019, 10, 10, 0, 0)"
      ]
     },
     "execution_count": 307,
     "metadata": {},
     "output_type": "execute_result"
    }
   ],
   "source": [
    "parse('2019 Oct 10') # string to datetime"
   ]
  },
  {
   "cell_type": "code",
   "execution_count": 308,
   "metadata": {},
   "outputs": [],
   "source": [
    "date = datetime.now()"
   ]
  },
  {
   "cell_type": "code",
   "execution_count": 311,
   "metadata": {},
   "outputs": [
    {
     "data": {
      "text/plain": [
       "datetime.datetime(2019, 10, 9, 16, 19, 31, 8026)"
      ]
     },
     "execution_count": 311,
     "metadata": {},
     "output_type": "execute_result"
    }
   ],
   "source": [
    "date"
   ]
  },
  {
   "cell_type": "code",
   "execution_count": 314,
   "metadata": {},
   "outputs": [
    {
     "data": {
      "text/plain": [
       "datetime.datetime(2019, 11, 9, 16, 19, 31, 8026)"
      ]
     },
     "execution_count": 314,
     "metadata": {},
     "output_type": "execute_result"
    }
   ],
   "source": [
    " date - relativedelta(months=1) # Get exact 1 month back time"
   ]
  },
  {
   "cell_type": "code",
   "execution_count": 315,
   "metadata": {},
   "outputs": [
    {
     "data": {
      "text/plain": [
       "datetime.datetime(2019, 11, 9, 16, 19, 31, 8026)"
      ]
     },
     "execution_count": 315,
     "metadata": {},
     "output_type": "execute_result"
    }
   ],
   "source": [
    "date + relativedelta(months=1) # Get exact 1 month later time"
   ]
  }
 ],
 "metadata": {
  "kernelspec": {
   "display_name": "Python 3",
   "language": "python",
   "name": "python3"
  },
  "language_info": {
   "codemirror_mode": {
    "name": "ipython",
    "version": 3
   },
   "file_extension": ".py",
   "mimetype": "text/x-python",
   "name": "python",
   "nbconvert_exporter": "python",
   "pygments_lexer": "ipython3",
   "version": "3.6.8"
  }
 },
 "nbformat": 4,
 "nbformat_minor": 4
}
